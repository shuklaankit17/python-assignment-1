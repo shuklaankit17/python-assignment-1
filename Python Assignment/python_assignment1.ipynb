{
  "nbformat": 4,
  "nbformat_minor": 0,
  "metadata": {
    "colab": {
      "provenance": []
    },
    "kernelspec": {
      "name": "python3",
      "display_name": "Python 3"
    },
    "language_info": {
      "name": "python"
    }
  },
  "cells": [
    {
      "cell_type": "markdown",
      "source": [
        "Exercise 1: Arithmetic Operators\n",
        "Write a Python program to perform the following operations:\n",
        "1. Add, subtract, multiply, and divide two numbers (input by the user).\n",
        "2. Use the modulus operator to find the remainder of their division.\n",
        "3. Use the exponentiation operator to raise the first number to the power of the second\n",
        "number.\n",
        "4. Perform floor division on the two numbers."
      ],
      "metadata": {
        "id": "fpPl54_RQFdQ"
      }
    },
    {
      "cell_type": "code",
      "execution_count": 1,
      "metadata": {
        "colab": {
          "base_uri": "https://localhost:8080/"
        },
        "id": "jfqsOInqPqdc",
        "outputId": "3f9d5a82-4b6f-48b8-bb2c-0cbfdd0d83ba"
      },
      "outputs": [
        {
          "output_type": "stream",
          "name": "stdout",
          "text": [
            "Enter the first number: 10\n",
            "Enter the second number: 20\n",
            "Addition: 30.0\n",
            "Subtraction: -10.0\n",
            "Multiplication: 200.0\n",
            "Division: 0.5\n",
            "Modulus: 10.0\n",
            "Exponentiation: 1e+20\n",
            "Floor Division: 0.0\n"
          ]
        }
      ],
      "source": [
        "# Get input from the user\n",
        "num1 = float(input(\"Enter the first number: \"))\n",
        "num2 = float(input(\"Enter the second number: \"))\n",
        "\n",
        "# Perform arithmetic operations\n",
        "addition = num1 + num2\n",
        "subtraction = num1 - num2\n",
        "multiplication = num1 * num2\n",
        "division = num1 / num2\n",
        "modulus = num1 % num2\n",
        "exponentiation = num1 ** num2\n",
        "floor_division = num1 // num2\n",
        "\n",
        "# Print the results\n",
        "print(\"Addition:\", addition)\n",
        "print(\"Subtraction:\", subtraction)\n",
        "print(\"Multiplication:\", multiplication)\n",
        "print(\"Division:\", division)\n",
        "print(\"Modulus:\", modulus)\n",
        "print(\"Exponentiation:\", exponentiation)\n",
        "print(\"Floor Division:\", floor_division)\n"
      ]
    },
    {
      "cell_type": "markdown",
      "source": [
        "Exercise 2: Comparison Operators\n",
        "\n",
        "Write a Python program that asks for two numbers and checks:\n",
        "1. If the first number is greater than the second.\n",
        "2. If the first number is equal to the second.\n",
        "3. If the first number is less than or equal to the second.\n",
        "Print the results."
      ],
      "metadata": {
        "id": "YqRovautQtAB"
      }
    },
    {
      "cell_type": "code",
      "source": [
        "# Get input from the user\n",
        "num1 = float(input(\"Enter the first number: \"))\n",
        "num2 = float(input(\"Enter the second number: \"))\n",
        "\n",
        "# Check if the first number is greater than the second\n",
        "greater_than = num1 > num2\n",
        "print(\"Is the first number greater than the second?\", greater_than)\n",
        "\n",
        "# Check if the first number is equal to the second\n",
        "equal_to = num1 == num2\n",
        "print(\"Is the first number equal to the second?\", equal_to)\n",
        "\n",
        "# Check if the first number is less than or equal to the second\n",
        "less_than_or_equal_to = num1 <= num2\n",
        "print(\"Is the first number less than or equal to the second?\", less_than_or_equal_to)2"
      ],
      "metadata": {
        "colab": {
          "base_uri": "https://localhost:8080/"
        },
        "id": "B_lB9mSERwZo",
        "outputId": "6d24b75f-e139-4507-d1e2-8f4e08bff296"
      },
      "execution_count": 2,
      "outputs": [
        {
          "output_type": "stream",
          "name": "stdout",
          "text": [
            "Enter the first number: 10\n",
            "Enter the second number: 0\n",
            "Is the first number greater than the second? True\n",
            "Is the first number equal to the second? False\n",
            "Is the first number less than or equal to the second? False\n"
          ]
        }
      ]
    },
    {
      "cell_type": "markdown",
      "source": [
        "Exercise 3: Logical Operators\n",
        "\n",
        "Write a Python program that:\n",
        "1. Takes three boolean values (True or False) as input.\n",
        "2. Uses and, or, and not operators to return the result of combining them."
      ],
      "metadata": {
        "id": "0Rf59mf7SIkC"
      }
    },
    {
      "cell_type": "code",
      "source": [
        "# Get input from the user\n",
        "bool1 = input(\"Enter the first boolean value (True or False): \").lower() == \"true\"\n",
        "bool2 = input(\"Enter the second boolean value (True or False): \").lower() == \"true\"\n",
        "bool3 = input(\"Enter the third boolean value (True or False): \").lower() == \"true\"\n",
        "\n",
        "# Use logical operators to combine the boolean values\n",
        "and_result = bool1 and bool2 and bool3\n",
        "or_result = bool1 or bool2 or bool3\n",
        "not_result = not bool1\n",
        "\n",
        "# Print the results\n",
        "print(\"Result of AND operation:\", and_result)\n",
        "print(\"Result of OR operation:\", or_result)\n",
        "print(\"Result of NOT operation on the first value:\", not_result)"
      ],
      "metadata": {
        "colab": {
          "base_uri": "https://localhost:8080/"
        },
        "id": "YLBE1aQ6SNbP",
        "outputId": "672e279a-7dde-4c44-8cbc-786ca10ae833"
      },
      "execution_count": 4,
      "outputs": [
        {
          "output_type": "stream",
          "name": "stdout",
          "text": [
            "Enter the first boolean value (True or False): 10\n",
            "Enter the second boolean value (True or False): 20\n",
            "Enter the third boolean value (True or False): 30\n",
            "Result of AND operation: False\n",
            "Result of OR operation: False\n",
            "Result of NOT operation on the first value: True\n"
          ]
        }
      ]
    },
    {
      "cell_type": "markdown",
      "source": [
        "Exercise 4: String Manipulation\n",
        "1. Take a string input from the user.\n",
        "2. Display the following:\n",
        "o The length of the string.\n",
        "o The first and last character.\n",
        "o The string in reverse order.\n",
        "o The string in uppercase and lowercase."
      ],
      "metadata": {
        "id": "PLcowVVySuiI"
      }
    },
    {
      "cell_type": "code",
      "source": [
        "# Get input from the user\n",
        "user_string = input(\"Enter a string: \")\n",
        "\n",
        "# Calculate the length of the string\n",
        "string_length = len(user_string)\n",
        "\n",
        "# Get the first and last characters\n",
        "first_char = user_string[0]\n",
        "last_char = user_string[-1]\n",
        "\n",
        "# Reverse the string\n",
        "reversed_string = user_string[::-1]\n",
        "\n",
        "# Convert the string to uppercase and lowercase\n",
        "uppercase_string = user_string.upper()\n",
        "lowercase_string = user_string.lower()\n",
        "\n",
        "# Print the results\n",
        "print(\"Length of the string:\", string_length)\n",
        "print(\"First character:\", first_char)\n",
        "print(\"Last character:\", last_char)\n",
        "print(\"Reversed string:\", reversed_string)\n",
        "print(\"Uppercase string:\", uppercase_string)\n",
        "print(\"Lowercase string:\", lowercase_string)"
      ],
      "metadata": {
        "colab": {
          "base_uri": "https://localhost:8080/"
        },
        "id": "94aoKu71S01T",
        "outputId": "506e7f31-9417-478a-ec91-96f48bddddb7"
      },
      "execution_count": 5,
      "outputs": [
        {
          "output_type": "stream",
          "name": "stdout",
          "text": [
            "Enter a string: ankit shukla\n",
            "Length of the string: 12\n",
            "First character: a\n",
            "Last character: a\n",
            "Reversed string: alkuhs tikna\n",
            "Uppercase string: ANKIT SHUKLA\n",
            "Lowercase string: ankit shukla\n"
          ]
        }
      ]
    },
    {
      "cell_type": "markdown",
      "source": [
        "Exercise 5: String Formatting\n",
        "\n",
        "Write a program that asks for the user's name and age, and displays the message in this format:\n",
        "Hello [Name], you are [Age] years old."
      ],
      "metadata": {
        "id": "dd1HSiBeTAL9"
      }
    },
    {
      "cell_type": "code",
      "source": [
        "# Get input from the user\n",
        "name = input(\"Enter your name: \")\n",
        "age = input(\"Enter your age: \")\n",
        "\n",
        "# Display the formatted message\n",
        "print(f\"Hello {name}, you are {age} years old.\")\n"
      ],
      "metadata": {
        "colab": {
          "base_uri": "https://localhost:8080/"
        },
        "id": "_OHXQGhtTGG7",
        "outputId": "fbb62eae-9c20-44c9-889d-a75076303bfe"
      },
      "execution_count": 6,
      "outputs": [
        {
          "output_type": "stream",
          "name": "stdout",
          "text": [
            "Enter your name: ankit shukla\n",
            "Enter your age: 21\n",
            "Hello ankit shukla, you are 21 years old.\n"
          ]
        }
      ]
    },
    {
      "cell_type": "markdown",
      "source": [
        "Exercise 6: Substring Search\n",
        "\n",
        "Write a Python program that:\n",
        "1. Asks for a sentence input from the user.\n",
        "2. Asks for a word to search in the sentence.\n",
        "3. Outputs whether the word exists in the sentence and, if it does, at which position (index).\n"
      ],
      "metadata": {
        "id": "ku_vkRd7TSnQ"
      }
    },
    {
      "cell_type": "code",
      "source": [
        "# Get input from the user\n",
        "sentence = input(\"Enter a sentence: \")\n",
        "word_to_search = input(\"Enter a word to search for: \")\n",
        "\n",
        "# Check if the word exists in the sentence\n",
        "if word_to_search in sentence:\n",
        "    # Find the index of the word\n",
        "    index = sentence.find(word_to_search)\n",
        "    print(f\"The word '{word_to_search}' exists in the sentence at index {index}.\")\n",
        "else:\n",
        "    print(f\"The word '{word_to_search}' does not exist in the sentence.\")\n"
      ],
      "metadata": {
        "colab": {
          "base_uri": "https://localhost:8080/"
        },
        "id": "Jy4vubvpTXXM",
        "outputId": "53c11639-b9d7-41c6-9929-ed50dce7c4ac"
      },
      "execution_count": 7,
      "outputs": [
        {
          "output_type": "stream",
          "name": "stdout",
          "text": [
            "Enter a sentence: alliance university is good among all the universities in india because i am studying in it\n",
            "Enter a word to search for: india\n",
            "The word 'india' exists in the sentence at index 58.\n"
          ]
        }
      ]
    },
    {
      "cell_type": "markdown",
      "source": [
        "Exercise 7: List Operations\n",
        "\n",
        "Write a Python program that:\n",
        "1. Creates a list of 5 numbers (input from the user).\n",
        "2. Displays the sum of all the numbers in the list.\n",
        "3. Finds the largest and smallest number in the list."
      ],
      "metadata": {
        "id": "8Jjy2vamTbiV"
      }
    },
    {
      "cell_type": "code",
      "source": [
        "# Create an empty list to store the numbers\n",
        "numbers = []\n",
        "\n",
        "# Get input from the user for 5 numbers\n",
        "for i in range(5):\n",
        "    number = float(input(f\"Enter number {i+1}: \"))\n",
        "    numbers.append(number)\n",
        "\n",
        "# Calculate the sum of the numbers\n",
        "sum_of_numbers = sum(numbers)\n",
        "\n",
        "# Find the largest and smallest numbers\n",
        "largest_number = max(numbers)\n",
        "smallest_number = min(numbers)\n",
        "\n",
        "# Print the results\n",
        "print(\"List of numbers:\", numbers)\n",
        "print(\"Sum of the numbers:\", sum_of_numbers)\n",
        "print(\"Largest number:\", largest_number)\n",
        "print(\"Smallest number:\", smallest_number)\n"
      ],
      "metadata": {
        "colab": {
          "base_uri": "https://localhost:8080/"
        },
        "id": "uZXHuqR0TfEg",
        "outputId": "77501958-bfa9-4706-fb40-a0dc1052f9ac"
      },
      "execution_count": 8,
      "outputs": [
        {
          "output_type": "stream",
          "name": "stdout",
          "text": [
            "Enter number 1: 5\n",
            "Enter number 2: 6\n",
            "Enter number 3: 7\n",
            "Enter number 4: 8\n",
            "Enter number 5: 9\n",
            "List of numbers: [5.0, 6.0, 7.0, 8.0, 9.0]\n",
            "Sum of the numbers: 35.0\n",
            "Largest number: 9.0\n",
            "Smallest number: 5.0\n"
          ]
        }
      ]
    },
    {
      "cell_type": "markdown",
      "source": [
        "Exercise 8: List Manipulation\n",
        "\n",
        "1. Create a list of 5 of your favorite fruits.\n",
        "2. Perform the following:\n",
        "o Add one more fruit to the list.\n",
        "o Remove the second fruit from the list.\n",
        "o Print the updated list"
      ],
      "metadata": {
        "id": "_uHdZvv3TjSY"
      }
    },
    {
      "cell_type": "code",
      "source": [
        "# Take input from the user\n",
        "fruits = input(\"Enter your favorite fruits separated by commas: \").split(',')\n",
        "\n",
        "# Strip any extra whitespace\n",
        "fruits = [fruit.strip() for fruit in fruits]\n",
        "\n",
        "# Add one more fruit\n",
        "new_fruit = input(\"Enter one more fruit to add: \")\n",
        "fruits.append(new_fruit.strip())\n",
        "\n",
        "# Remove the second fruit (if it exists)\n",
        "if len(fruits) > 1:\n",
        "    fruits.pop(1)\n",
        "\n",
        "# Print the updated list\n",
        "print(\"Updated list of fruits:\")\n",
        "print(fruits)\n"
      ],
      "metadata": {
        "colab": {
          "base_uri": "https://localhost:8080/"
        },
        "id": "6Wy5MTkzTm74",
        "outputId": "50efff68-1938-499a-a31d-d1757e42c772"
      },
      "execution_count": 9,
      "outputs": [
        {
          "output_type": "stream",
          "name": "stdout",
          "text": [
            "Enter your favorite fruits separated by commas: mango,banana,litchi\n",
            "Enter one more fruit to add: apple\n",
            "Updated list of fruits:\n",
            "['mango', 'litchi', 'apple']\n"
          ]
        }
      ]
    },
    {
      "cell_type": "markdown",
      "source": [
        "Exercise 9: Sorting a List\n",
        "\n",
        "Write a Python program that:\n",
        "1. Asks the user to input a list of 5 numbers.\n",
        "2. Sorts the list in ascending order and displays it.\n",
        "3. Sorts the list in descending order and displays it."
      ],
      "metadata": {
        "id": "-jgj5rWdTqYf"
      }
    },
    {
      "cell_type": "code",
      "source": [
        "# Get input from the user\n",
        "numbers = []\n",
        "for i in range(5):\n",
        "    number = float(input(f\"Enter number {i+1}: \"))\n",
        "    numbers.append(number)\n",
        "\n",
        "# Sort the list in ascending order\n",
        "numbers_ascending = sorted(numbers)\n",
        "\n",
        "# Sort the list in descending order\n",
        "numbers_descending = sorted(numbers, reverse=True)\n",
        "\n",
        "# Print the results\n",
        "print(\"List in ascending order:\", numbers_ascending)\n",
        "print(\"List in descending order:\", numbers_descending)"
      ],
      "metadata": {
        "colab": {
          "base_uri": "https://localhost:8080/"
        },
        "id": "qIzs9rD_WbuR",
        "outputId": "557589ae-7239-4c3b-bc15-6e6ac5709f7e"
      },
      "execution_count": 14,
      "outputs": [
        {
          "output_type": "stream",
          "name": "stdout",
          "text": [
            "Enter number 1: 5\n",
            "Enter number 2: 10\n",
            "Enter number 3: 15\n",
            "Enter number 4: 20\n",
            "Enter number 5: 25\n",
            "List in ascending order: [5.0, 10.0, 15.0, 20.0, 25.0]\n",
            "List in descending order: [25.0, 20.0, 15.0, 10.0, 5.0]\n"
          ]
        }
      ]
    },
    {
      "cell_type": "markdown",
      "source": [
        "Exercise 10: List Slicing\n",
        "\n",
        "Given the list numbers = [1, 2, 3, 4, 5, 6, 7, 8, 9, 10], perform the following:\n",
        "1. Print the first 5 elements.\n",
        "2. Print the last 5 elements.\n",
        "3. Print the elements from index 2 to index 7."
      ],
      "metadata": {
        "id": "Zj469CRiTz_q"
      }
    },
    {
      "cell_type": "code",
      "source": [
        "numbers = [1, 2, 3, 4, 5, 6, 7, 8, 9, 10]\n",
        "\n",
        "# Print the first 5 elements\n",
        "print(\"First 5 elements:\", numbers[:5])\n",
        "\n",
        "# Print the last 5 elements\n",
        "print(\"Last 5 elements:\", numbers[-5:])\n",
        "\n",
        "# Print the elements from index 2 to index 7\n",
        "print(\"Elements from index 2 to index 7:\", numbers[2:8])\n"
      ],
      "metadata": {
        "colab": {
          "base_uri": "https://localhost:8080/"
        },
        "id": "dU2V51HgT62c",
        "outputId": "bfece9c6-7746-4172-b31e-8c06eec230b7"
      },
      "execution_count": 16,
      "outputs": [
        {
          "output_type": "stream",
          "name": "stdout",
          "text": [
            "First 5 elements: [1, 2, 3, 4, 5]\n",
            "Last 5 elements: [6, 7, 8, 9, 10]\n",
            "Elements from index 2 to index 7: [3, 4, 5, 6, 7, 8]\n"
          ]
        }
      ]
    },
    {
      "cell_type": "markdown",
      "source": [
        "Exercise 11: Nested List\n",
        "\n",
        "Write a Python program that:\n",
        "1. Takes input of 3 students' names and their respective scores in 3 subjects.\n",
        "2. Stores them in a nested list.\n",
        "3. Prints each student's name and their average score"
      ],
      "metadata": {
        "id": "klfVFfmVT-sS"
      }
    },
    {
      "cell_type": "code",
      "source": [
        "student_data = []\n",
        "\n",
        "for i in range(3):\n",
        "  student_name = input(f\"Enter the name of student {i + 1}: \")\n",
        "  scores = []\n",
        "  for j in range(3):\n",
        "    score = float(input(f\"Enter score for subject {j + 1} for {student_name}: \"))\n",
        "    scores.append(score)\n",
        "  student_data.append([student_name, scores])\n",
        "\n",
        "for student in student_data:\n",
        "  name = student[0]\n",
        "  scores = student[1]\n",
        "  average_score = sum(scores) / len(scores)\n",
        "  print(f\"{name}: Average Score = {average_score}\")\n"
      ],
      "metadata": {
        "colab": {
          "base_uri": "https://localhost:8080/"
        },
        "id": "-3hLvd6nXN-z",
        "outputId": "00873461-5a45-4d5f-efcd-05f16e2d5606"
      },
      "execution_count": 19,
      "outputs": [
        {
          "output_type": "stream",
          "name": "stdout",
          "text": [
            "Enter the name of student 1: sarif\n",
            "Enter score for subject 1 for sarif: 99\n",
            "Enter score for subject 2 for sarif: 98\n",
            "Enter score for subject 3 for sarif: 97\n",
            "Enter the name of student 2: badmas\n",
            "Enter score for subject 1 for badmas: 1\n",
            "Enter score for subject 2 for badmas: 2\n",
            "Enter score for subject 3 for badmas: 3\n",
            "Enter the name of student 3: ankit\n",
            "Enter score for subject 1 for ankit: 99\n",
            "Enter score for subject 2 for ankit: 100\n",
            "Enter score for subject 3 for ankit: 100\n",
            "sarif: Average Score = 98.0\n",
            "badmas: Average Score = 2.0\n",
            "ankit: Average Score = 99.66666666666667\n"
          ]
        }
      ]
    }
  ]
}